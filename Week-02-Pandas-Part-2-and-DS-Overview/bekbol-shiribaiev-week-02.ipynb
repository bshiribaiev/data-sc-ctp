{
 "cells": [
  {
   "cell_type": "markdown",
   "metadata": {},
   "source": [
    "# Fall 2024 Data Science Track: Week 2 - Data Cleaning Exercise"
   ]
  },
  {
   "cell_type": "markdown",
   "metadata": {},
   "source": [
    "## Packages, Packages, Packages!\n",
    "\n",
    "Import *all* the things here! You need the standard stuff: `pandas` and `numpy`.\n",
    "\n",
    "If you got more stuff you want to use, add them here too. 🙂"
   ]
  },
  {
   "cell_type": "code",
   "execution_count": 1,
   "metadata": {},
   "outputs": [],
   "source": [
    "# Import here.\n",
    "import pandas as pd\n",
    "import numpy as np"
   ]
  },
  {
   "cell_type": "markdown",
   "metadata": {},
   "source": [
    "## Introduction\n",
    "\n",
    "With the packages out of the way, now you will be working with the following data sets:\n",
    "\n",
    "* `food_coded.csv`: [Food choices](https://www.kaggle.com/datasets/borapajo/food-choices?select=food_coded.csv) from Kaggle\n",
    "* `Ask A Manager Salary Survey 2021 (Responses) - Form Responses 1.tsv`: [Ask A Manager Salary Survey 2021 (Responses)](https://docs.google.com/spreadsheets/d/1IPS5dBSGtwYVbjsfbaMCYIWnOuRmJcbequohNxCyGVw/view?&gid=1625408792) as *Tab Separated Values (.tsv)* from Google Docs\n",
    "\n",
    "Each one poses different challenges. But you’ll―of course―overcome them with what you learned in class! 😉"
   ]
  },
  {
   "cell_type": "markdown",
   "metadata": {},
   "source": [
    "## Food Choices Data Set"
   ]
  },
  {
   "cell_type": "markdown",
   "metadata": {},
   "source": [
    "### Load the Data"
   ]
  },
  {
   "cell_type": "code",
   "execution_count": 2,
   "metadata": {},
   "outputs": [],
   "source": [
    "# Load the Food choices data set into a variable (e.g., df_food).\n",
    "\n",
    "food_data_set_path = 'data/food_coded.csv'\n",
    "\n",
    "df_food = pd.read_csv(food_data_set_path)"
   ]
  },
  {
   "cell_type": "markdown",
   "metadata": {},
   "source": [
    "### Explore the Data"
   ]
  },
  {
   "cell_type": "markdown",
   "metadata": {},
   "source": [
    "How much data did you just load?"
   ]
  },
  {
   "cell_type": "code",
   "execution_count": 3,
   "metadata": {},
   "outputs": [
    {
     "data": {
      "text/plain": [
       "61"
      ]
     },
     "execution_count": 3,
     "metadata": {},
     "output_type": "execute_result"
    }
   ],
   "source": [
    "# Count by hand. (lol kidding)\n",
    "rows = df_food.shape[0]\n",
    "cols = df_food.shape[1]\n",
    "rows\n",
    "cols"
   ]
  },
  {
   "cell_type": "markdown",
   "metadata": {},
   "source": [
    "What are the columns and their types in this data set?"
   ]
  },
  {
   "cell_type": "code",
   "execution_count": 4,
   "metadata": {},
   "outputs": [
    {
     "name": "stdout",
     "output_type": "stream",
     "text": [
      "Index(['GPA', 'Gender', 'breakfast', 'calories_chicken', 'calories_day',\n",
      "       'calories_scone', 'coffee', 'comfort_food', 'comfort_food_reasons',\n",
      "       'comfort_food_reasons_coded', 'cook', 'comfort_food_reasons_coded.1',\n",
      "       'cuisine', 'diet_current', 'diet_current_coded', 'drink',\n",
      "       'eating_changes', 'eating_changes_coded', 'eating_changes_coded1',\n",
      "       'eating_out', 'employment', 'ethnic_food', 'exercise',\n",
      "       'father_education', 'father_profession', 'fav_cuisine',\n",
      "       'fav_cuisine_coded', 'fav_food', 'food_childhood', 'fries', 'fruit_day',\n",
      "       'grade_level', 'greek_food', 'healthy_feeling', 'healthy_meal',\n",
      "       'ideal_diet', 'ideal_diet_coded', 'income', 'indian_food',\n",
      "       'italian_food', 'life_rewarding', 'marital_status',\n",
      "       'meals_dinner_friend', 'mother_education', 'mother_profession',\n",
      "       'nutritional_check', 'on_off_campus', 'parents_cook', 'pay_meal_out',\n",
      "       'persian_food', 'self_perception_weight', 'soup', 'sports', 'thai_food',\n",
      "       'tortilla_calories', 'turkey_calories', 'type_sports', 'veggies_day',\n",
      "       'vitamins', 'waffle_calories', 'weight'],\n",
      "      dtype='object')\n",
      "GPA                  object\n",
      "Gender                int64\n",
      "breakfast             int64\n",
      "calories_chicken      int64\n",
      "calories_day        float64\n",
      "                     ...   \n",
      "type_sports          object\n",
      "veggies_day           int64\n",
      "vitamins              int64\n",
      "waffle_calories       int64\n",
      "weight               object\n",
      "Length: 61, dtype: object\n"
     ]
    }
   ],
   "source": [
    "# Show the column names and their types.\n",
    "cnames = df_food.columns\n",
    "ctypes = df_food.dtypes\n",
    "print(cnames)\n",
    "print(ctypes)\n"
   ]
  },
  {
   "cell_type": "markdown",
   "metadata": {},
   "source": [
    "### Clean the Data\n",
    "\n",
    "Perhaps we’d like to know more another day, but the team is really interested in just the relationship between calories (`calories_day`) and weight. …and maybe gender."
   ]
  },
  {
   "cell_type": "markdown",
   "metadata": {},
   "source": [
    "Can you remove the other columns?"
   ]
  },
  {
   "cell_type": "code",
   "execution_count": 5,
   "metadata": {},
   "outputs": [],
   "source": [
    "# Remove ‘em.\n",
    "df_food = df_food[['calories_day', 'weight', 'Gender']]"
   ]
  },
  {
   "cell_type": "markdown",
   "metadata": {},
   "source": [
    "What about `NaN`s? How many are there?"
   ]
  },
  {
   "cell_type": "code",
   "execution_count": 6,
   "metadata": {},
   "outputs": [
    {
     "data": {
      "text/plain": [
       "calories_day    19\n",
       "weight           2\n",
       "Gender           0\n",
       "dtype: int64"
      ]
     },
     "execution_count": 6,
     "metadata": {},
     "output_type": "execute_result"
    }
   ],
   "source": [
    "# Count ‘em.\n",
    "nans = df_food.isna().sum()\n",
    "nans\n"
   ]
  },
  {
   "cell_type": "markdown",
   "metadata": {},
   "source": [
    "We gotta remove those `NaN`s―the entire row."
   ]
  },
  {
   "cell_type": "code",
   "execution_count": 7,
   "metadata": {},
   "outputs": [],
   "source": [
    "# Drop ‘em.\n",
    "df_food = df_food.dropna()\n"
   ]
  },
  {
   "cell_type": "markdown",
   "metadata": {},
   "source": [
    "But what about the weird non-numeric values in the column obviously meant for numeric data?\n",
    "\n",
    "Notice the data type of that column from when you got the types of all the columns?\n",
    "\n",
    "If only we could convert the column to a numeric type and drop the rows with invalid values. 🤔"
   ]
  },
  {
   "cell_type": "code",
   "execution_count": 8,
   "metadata": {},
   "outputs": [],
   "source": [
    "# Fix that.\n",
    "df_food['calories_day'] = pd.to_numeric(df_food['calories_day'], errors='coerce')\n",
    "df_food['weight'] = pd.to_numeric(df_food['weight'], errors='coerce')\n",
    "df_food = df_food.dropna(subset=['calories_day', 'weight'])"
   ]
  },
  {
   "cell_type": "markdown",
   "metadata": {},
   "source": [
    "Now this data seems reasonably clean for our purposes! 😁\n",
    "\n",
    "Let’s save it somewhere to be shipped off to another teammate. 💾"
   ]
  },
  {
   "cell_type": "code",
   "execution_count": 9,
   "metadata": {},
   "outputs": [],
   "source": [
    "# Savey save!\n",
    "df_food.to_csv('data/food_cleaned.csv', index=False)\n"
   ]
  },
  {
   "cell_type": "markdown",
   "metadata": {},
   "source": [
    "## Ask a Manager Salary Survey 2021 (Responses) Data Set"
   ]
  },
  {
   "cell_type": "markdown",
   "metadata": {},
   "source": [
    "### Load the Data"
   ]
  },
  {
   "cell_type": "code",
   "execution_count": 10,
   "metadata": {},
   "outputs": [],
   "source": [
    "# Load the Ask A Manager Salary Survey 2021 (Responses) data set into a variable (e.g., df_salary).\n",
    "df_salary = pd.read_csv('data/salary_survey.tsv', sep='\\t')\n"
   ]
  },
  {
   "cell_type": "markdown",
   "metadata": {},
   "source": [
    "Was that hard? 🙃"
   ]
  },
  {
   "cell_type": "markdown",
   "metadata": {},
   "source": [
    "#### rename the file to something that is better for all systems.  \n",
    "* No spaces in filename (can use '_')\n",
    "* all lower case"
   ]
  },
  {
   "cell_type": "markdown",
   "metadata": {},
   "source": [
    "### Explore\n",
    "\n",
    "You know the drill."
   ]
  },
  {
   "cell_type": "markdown",
   "metadata": {},
   "source": [
    "How much data did you just load?"
   ]
  },
  {
   "cell_type": "code",
   "execution_count": 11,
   "metadata": {},
   "outputs": [
    {
     "data": {
      "text/plain": [
       "28062"
      ]
     },
     "execution_count": 11,
     "metadata": {},
     "output_type": "execute_result"
    }
   ],
   "source": [
    "# Count by hand. I’m dead serious.\n",
    "rows_s = df_salary.shape[0]\n",
    "rows_s\n"
   ]
  },
  {
   "cell_type": "markdown",
   "metadata": {},
   "source": [
    "What are the columns and their types?"
   ]
  },
  {
   "cell_type": "code",
   "execution_count": 12,
   "metadata": {},
   "outputs": [
    {
     "name": "stdout",
     "output_type": "stream",
     "text": [
      "Timestamp                                                                                                                                                                                                                                object\n",
      "How old are you?                                                                                                                                                                                                                         object\n",
      "What industry do you work in?                                                                                                                                                                                                            object\n",
      "Job title                                                                                                                                                                                                                                object\n",
      "If your job title needs additional context, please clarify here:                                                                                                                                                                         object\n",
      "What is your annual salary? (You'll indicate the currency in a later question. If you are part-time or hourly, please enter an annualized equivalent -- what you would earn if you worked the job 40 hours a week, 52 weeks a year.)     object\n",
      "How much additional monetary compensation do you get, if any (for example, bonuses or overtime in an average year)? Please only include monetary compensation here, not the value of benefits.                                          float64\n",
      "Please indicate the currency                                                                                                                                                                                                             object\n",
      "If \"Other,\" please indicate the currency here:                                                                                                                                                                                           object\n",
      "If your income needs additional context, please provide it here:                                                                                                                                                                         object\n",
      "What country do you work in?                                                                                                                                                                                                             object\n",
      "If you're in the U.S., what state do you work in?                                                                                                                                                                                        object\n",
      "What city do you work in?                                                                                                                                                                                                                object\n",
      "How many years of professional work experience do you have overall?                                                                                                                                                                      object\n",
      "How many years of professional work experience do you have in your field?                                                                                                                                                                object\n",
      "What is your highest level of education completed?                                                                                                                                                                                       object\n",
      "What is your gender?                                                                                                                                                                                                                     object\n",
      "What is your race? (Choose all that apply.)                                                                                                                                                                                              object\n",
      "dtype: object\n"
     ]
    }
   ],
   "source": [
    "# Show the column names and their types.\n",
    "ctypes_s = df_salary.columns\n",
    "ctypes_s = df_salary.dtypes\n",
    "print(ctypes_s)\n"
   ]
  },
  {
   "cell_type": "markdown",
   "metadata": {},
   "source": [
    "Oh… Ugh! Give these columns easier names to work with first. 🙄"
   ]
  },
  {
   "cell_type": "code",
   "execution_count": 13,
   "metadata": {},
   "outputs": [
    {
     "name": "stdout",
     "output_type": "stream",
     "text": [
      "Index(['Timestamp', 'age', 'industry', 'title', 'title_context', 'salary',\n",
      "       'additional_compensation', 'currency', 'other_currency',\n",
      "       'salary_context', 'country', 'state', 'city', 'total_yoe', 'field_yoe',\n",
      "       'highest_education_completed', 'gender', 'race'],\n",
      "      dtype='object')\n"
     ]
    }
   ],
   "source": [
    "# Rename ‘em.\n",
    "# Non-binding suggestions: timestamp, age, industry, title, title_context, salary, additional_compensation, currency, other_currency, salary_context, country, state, city, total_yoe, field_yoe, highest_education_completed\tgender, race\n",
    "df_salary = df_salary.rename(columns={\n",
    "    'timestamp': 'timestamp',\n",
    "    'How old are you?': 'age',\n",
    "    'What industry do you work in?': 'industry',\n",
    "    'Job title': 'title',\n",
    "    'If your job title needs additional context, please clarify here:': 'title_context',\n",
    "    \"What is your annual salary? (You'll indicate the currency in a later question. If you are part-time or hourly, please enter an annualized equivalent -- what you would earn if you worked the job 40 hours a week, 52 weeks a year.)\": 'salary',\n",
    "    'How much additional monetary compensation do you get, if any (for example, bonuses or overtime in an average year)? Please only include monetary compensation here, not the value of benefits.': 'additional_compensation',\n",
    "    'Please indicate the currency': 'currency',\n",
    "    'If \"Other,\" please indicate the currency here: ': 'other_currency',\n",
    "    'If your income needs additional context, please provide it here:': 'salary_context',\n",
    "    'What country do you work in?': 'country',\n",
    "    \"If you're in the U.S., what state do you work in?\": 'state',\n",
    "    'What city do you work in?': 'city',\n",
    "    'How many years of professional work experience do you have overall?': 'total_yoe',\n",
    "    'How many years of professional work experience do you have in your field?': 'field_yoe',\n",
    "    'What is your highest level of education completed?': 'highest_education_completed',\n",
    "    'What is your gender?': 'gender',\n",
    "    'What is your race? (Choose all that apply.)': 'race'\n",
    "})\n",
    "print(df_salary.columns)"
   ]
  },
  {
   "cell_type": "markdown",
   "metadata": {},
   "source": [
    "It’s a lot, and that should not have been easy. 😏"
   ]
  },
  {
   "cell_type": "markdown",
   "metadata": {},
   "source": [
    "You’re going to have a gander at the computing/tech subset first because thats *your* industry. But first, what value corresponds to that `industry`?"
   ]
  },
  {
   "cell_type": "code",
   "execution_count": 14,
   "metadata": {},
   "outputs": [
    {
     "name": "stdout",
     "output_type": "stream",
     "text": [
      "industry\n",
      "Computing or Tech                        4699\n",
      "Education (Higher Education)             2464\n",
      "Nonprofits                               2419\n",
      "Health care                              1896\n",
      "Government and Public Administration     1889\n",
      "                                         ... \n",
      "Warehousing                                 1\n",
      "Education (Early Childhood Education)       1\n",
      "SAAS                                        1\n",
      "Health and Safety                           1\n",
      "Aerospace Manufacturing                     1\n",
      "Name: count, Length: 1219, dtype: int64\n"
     ]
    }
   ],
   "source": [
    "# List the unique industries and a count of their instances.\n",
    "unique_in = df_salary['industry'].value_counts()\n",
    "print(unique_in)\n"
   ]
  },
  {
   "cell_type": "markdown",
   "metadata": {},
   "source": [
    "That value among the top 5 is what you’re looking for innit? Filter out all the rows not in that industry and save it into a new dataframe. "
   ]
  },
  {
   "cell_type": "code",
   "execution_count": 15,
   "metadata": {},
   "outputs": [],
   "source": [
    "# Filtery filter. (Save it to a new variable, df_salary_tech.)\n",
    "df_salary_tech = df_salary[df_salary['industry'] == 'Computing or Tech']\n"
   ]
  },
  {
   "cell_type": "markdown",
   "metadata": {},
   "source": [
    "Do a sanity check to make sure that the only values you kept are the one you are filtered for.  "
   ]
  },
  {
   "cell_type": "code",
   "execution_count": 16,
   "metadata": {},
   "outputs": [
    {
     "name": "stdout",
     "output_type": "stream",
     "text": [
      "                Timestamp    age           industry  \\\n",
      "1      4/27/2021 11:02:22  25-34  Computing or Tech   \n",
      "8      4/27/2021 11:03:01  45-54  Computing or Tech   \n",
      "43     4/27/2021 11:04:04  25-34  Computing or Tech   \n",
      "44     4/27/2021 11:04:04  25-34  Computing or Tech   \n",
      "46     4/27/2021 11:04:07  35-44  Computing or Tech   \n",
      "...                   ...    ...                ...   \n",
      "28050   7/1/2024 13:38:46  25-34  Computing or Tech   \n",
      "28051   7/1/2024 20:05:58  25-34  Computing or Tech   \n",
      "28052   7/3/2024 14:02:01  25-34  Computing or Tech   \n",
      "28058  7/23/2024 17:51:03  25-34  Computing or Tech   \n",
      "28060  7/26/2024 11:20:45  18-24  Computing or Tech   \n",
      "\n",
      "                                              title  \\\n",
      "1          Change & Internal Communications Manager   \n",
      "8                                   Systems Analyst   \n",
      "43                      Principal Software Engineer   \n",
      "44                             Intelligence Analyst   \n",
      "46                                 Mobile developer   \n",
      "...                                             ...   \n",
      "28050  Research & Systems Technician Data Analytics   \n",
      "28051                          Junior data analyst    \n",
      "28052        Senior Global Public Relations Manager   \n",
      "28058                             Systems Architect   \n",
      "28060                                            IT   \n",
      "\n",
      "                      title_context   salary  additional_compensation  \\\n",
      "1                               NaN   54,600                   4000.0   \n",
      "8      Data developer/ETL Developer  112,000                  10000.0   \n",
      "43                              NaN  187,500                   5000.0   \n",
      "44                              NaN  110,000                  20000.0   \n",
      "46                              NaN  144,600                   2500.0   \n",
      "...                             ...      ...                      ...   \n",
      "28050                           NaN    22000                      NaN   \n",
      "28051                           NaN    35000                  15000.0   \n",
      "28052                           NaN   144000                  15000.0   \n",
      "28058                           NaN   109000                      NaN   \n",
      "28060                           NaN     1700                     10.0   \n",
      "\n",
      "      currency other_currency                 salary_context         country  \\\n",
      "1          GBP            NaN                            NaN  United Kingdom   \n",
      "8          USD            NaN                            NaN              US   \n",
      "43         USD            NaN                            NaN   United States   \n",
      "44         USD            NaN  Around 20,000 a year in stock             USA   \n",
      "46         USD            NaN                            NaN             USA   \n",
      "...        ...            ...                            ...             ...   \n",
      "28050      EUR            NaN                            NaN           Spain   \n",
      "28051      USD            NaN                            NaN             Usa   \n",
      "28052      USD            NaN                            NaN             Usa   \n",
      "28058      USD            NaN                            NaN             USA   \n",
      "28060      USD            NaN                            NaN           Burma   \n",
      "\n",
      "               state                                          city  \\\n",
      "1                NaN                                     Cambridge   \n",
      "8           Missouri                                     St. Louis   \n",
      "43      Pennsylvania                                    Pittsburgh   \n",
      "44          Virginia                                 Arlington, VA   \n",
      "46     Massachusetts                                        Boston   \n",
      "...              ...                                           ...   \n",
      "28050            NaN                                     Barcelona   \n",
      "28051        Alabama                                      Alabama    \n",
      "28052  Massachusetts  Boise-but remote. Company located in Boston    \n",
      "28058        Georgia                                       Atlanta   \n",
      "28060            NaN                                        Yangon   \n",
      "\n",
      "           total_yoe       field_yoe highest_education_completed      gender  \\\n",
      "1       8 - 10 years       5-7 years              College degree  Non-binary   \n",
      "8      21 - 30 years   21 - 30 years              College degree       Woman   \n",
      "43      8 - 10 years       5-7 years              College degree       Woman   \n",
      "44      8 - 10 years    8 - 10 years             Master's degree         Man   \n",
      "46         5-7 years       5-7 years                         PhD       Woman   \n",
      "...              ...             ...                         ...         ...   \n",
      "28050    2 - 4 years     2 - 4 years              College degree         Man   \n",
      "28051    2 - 4 years     2 - 4 years              College degree       Woman   \n",
      "28052   8 - 10 years    8 - 10 years             Master's degree       Woman   \n",
      "28058      5-7 years       5-7 years              College degree         Man   \n",
      "28060    2 - 4 years  1 year or less                Some college         Man   \n",
      "\n",
      "                                      race  \n",
      "1                                    White  \n",
      "8                                    White  \n",
      "43                                   White  \n",
      "44                                   White  \n",
      "46                                   White  \n",
      "...                                    ...  \n",
      "28050  Hispanic, Latino, or Spanish origin  \n",
      "28051            Black or African American  \n",
      "28052                                White  \n",
      "28058                                White  \n",
      "28060              Asian or Asian American  \n",
      "\n",
      "[4699 rows x 18 columns]\n"
     ]
    }
   ],
   "source": [
    "# Sanity Check \n",
    "print(df_salary_tech)\n",
    "\n"
   ]
  },
  {
   "cell_type": "markdown",
   "metadata": {},
   "source": [
    "We are very interested in salary figures. But how many dollars 💵 is a euro 💶 or a pound 💷? That sounds like a problem for another day. 🫠\n",
    "\n",
    "For now, let’s just look at U.S. dollars (`'USD'`)."
   ]
  },
  {
   "cell_type": "code",
   "execution_count": 17,
   "metadata": {},
   "outputs": [
    {
     "data": {
      "text/html": [
       "<div>\n",
       "<style scoped>\n",
       "    .dataframe tbody tr th:only-of-type {\n",
       "        vertical-align: middle;\n",
       "    }\n",
       "\n",
       "    .dataframe tbody tr th {\n",
       "        vertical-align: top;\n",
       "    }\n",
       "\n",
       "    .dataframe thead th {\n",
       "        text-align: right;\n",
       "    }\n",
       "</style>\n",
       "<table border=\"1\" class=\"dataframe\">\n",
       "  <thead>\n",
       "    <tr style=\"text-align: right;\">\n",
       "      <th></th>\n",
       "      <th>Timestamp</th>\n",
       "      <th>age</th>\n",
       "      <th>industry</th>\n",
       "      <th>title</th>\n",
       "      <th>title_context</th>\n",
       "      <th>salary</th>\n",
       "      <th>additional_compensation</th>\n",
       "      <th>currency</th>\n",
       "      <th>other_currency</th>\n",
       "      <th>salary_context</th>\n",
       "      <th>country</th>\n",
       "      <th>state</th>\n",
       "      <th>city</th>\n",
       "      <th>total_yoe</th>\n",
       "      <th>field_yoe</th>\n",
       "      <th>highest_education_completed</th>\n",
       "      <th>gender</th>\n",
       "      <th>race</th>\n",
       "    </tr>\n",
       "  </thead>\n",
       "  <tbody>\n",
       "    <tr>\n",
       "      <th>8</th>\n",
       "      <td>4/27/2021 11:03:01</td>\n",
       "      <td>45-54</td>\n",
       "      <td>Computing or Tech</td>\n",
       "      <td>Systems Analyst</td>\n",
       "      <td>Data developer/ETL Developer</td>\n",
       "      <td>112,000</td>\n",
       "      <td>10000.0</td>\n",
       "      <td>USD</td>\n",
       "      <td>NaN</td>\n",
       "      <td>NaN</td>\n",
       "      <td>US</td>\n",
       "      <td>Missouri</td>\n",
       "      <td>St. Louis</td>\n",
       "      <td>21 - 30 years</td>\n",
       "      <td>21 - 30 years</td>\n",
       "      <td>College degree</td>\n",
       "      <td>Woman</td>\n",
       "      <td>White</td>\n",
       "    </tr>\n",
       "    <tr>\n",
       "      <th>43</th>\n",
       "      <td>4/27/2021 11:04:04</td>\n",
       "      <td>25-34</td>\n",
       "      <td>Computing or Tech</td>\n",
       "      <td>Principal Software Engineer</td>\n",
       "      <td>NaN</td>\n",
       "      <td>187,500</td>\n",
       "      <td>5000.0</td>\n",
       "      <td>USD</td>\n",
       "      <td>NaN</td>\n",
       "      <td>NaN</td>\n",
       "      <td>United States</td>\n",
       "      <td>Pennsylvania</td>\n",
       "      <td>Pittsburgh</td>\n",
       "      <td>8 - 10 years</td>\n",
       "      <td>5-7 years</td>\n",
       "      <td>College degree</td>\n",
       "      <td>Woman</td>\n",
       "      <td>White</td>\n",
       "    </tr>\n",
       "    <tr>\n",
       "      <th>44</th>\n",
       "      <td>4/27/2021 11:04:04</td>\n",
       "      <td>25-34</td>\n",
       "      <td>Computing or Tech</td>\n",
       "      <td>Intelligence Analyst</td>\n",
       "      <td>NaN</td>\n",
       "      <td>110,000</td>\n",
       "      <td>20000.0</td>\n",
       "      <td>USD</td>\n",
       "      <td>NaN</td>\n",
       "      <td>Around 20,000 a year in stock</td>\n",
       "      <td>USA</td>\n",
       "      <td>Virginia</td>\n",
       "      <td>Arlington, VA</td>\n",
       "      <td>8 - 10 years</td>\n",
       "      <td>8 - 10 years</td>\n",
       "      <td>Master's degree</td>\n",
       "      <td>Man</td>\n",
       "      <td>White</td>\n",
       "    </tr>\n",
       "    <tr>\n",
       "      <th>46</th>\n",
       "      <td>4/27/2021 11:04:07</td>\n",
       "      <td>35-44</td>\n",
       "      <td>Computing or Tech</td>\n",
       "      <td>Mobile developer</td>\n",
       "      <td>NaN</td>\n",
       "      <td>144,600</td>\n",
       "      <td>2500.0</td>\n",
       "      <td>USD</td>\n",
       "      <td>NaN</td>\n",
       "      <td>NaN</td>\n",
       "      <td>USA</td>\n",
       "      <td>Massachusetts</td>\n",
       "      <td>Boston</td>\n",
       "      <td>5-7 years</td>\n",
       "      <td>5-7 years</td>\n",
       "      <td>PhD</td>\n",
       "      <td>Woman</td>\n",
       "      <td>White</td>\n",
       "    </tr>\n",
       "    <tr>\n",
       "      <th>47</th>\n",
       "      <td>4/27/2021 11:04:09</td>\n",
       "      <td>35-44</td>\n",
       "      <td>Computing or Tech</td>\n",
       "      <td>Product Design Director</td>\n",
       "      <td>NaN</td>\n",
       "      <td>200,850</td>\n",
       "      <td>40000.0</td>\n",
       "      <td>USD</td>\n",
       "      <td>NaN</td>\n",
       "      <td>NaN</td>\n",
       "      <td>USA</td>\n",
       "      <td>North Carolina</td>\n",
       "      <td>Chapel Hill</td>\n",
       "      <td>11 - 20 years</td>\n",
       "      <td>11 - 20 years</td>\n",
       "      <td>College degree</td>\n",
       "      <td>Woman</td>\n",
       "      <td>White</td>\n",
       "    </tr>\n",
       "    <tr>\n",
       "      <th>...</th>\n",
       "      <td>...</td>\n",
       "      <td>...</td>\n",
       "      <td>...</td>\n",
       "      <td>...</td>\n",
       "      <td>...</td>\n",
       "      <td>...</td>\n",
       "      <td>...</td>\n",
       "      <td>...</td>\n",
       "      <td>...</td>\n",
       "      <td>...</td>\n",
       "      <td>...</td>\n",
       "      <td>...</td>\n",
       "      <td>...</td>\n",
       "      <td>...</td>\n",
       "      <td>...</td>\n",
       "      <td>...</td>\n",
       "      <td>...</td>\n",
       "      <td>...</td>\n",
       "    </tr>\n",
       "    <tr>\n",
       "      <th>28044</th>\n",
       "      <td>6/3/2024 16:15:43</td>\n",
       "      <td>18-24</td>\n",
       "      <td>Computing or Tech</td>\n",
       "      <td>Research Data Analyst Associate</td>\n",
       "      <td>NaN</td>\n",
       "      <td>60000</td>\n",
       "      <td>0.0</td>\n",
       "      <td>USD</td>\n",
       "      <td>NaN</td>\n",
       "      <td>NaN</td>\n",
       "      <td>United States</td>\n",
       "      <td>Illinois</td>\n",
       "      <td>Evanston</td>\n",
       "      <td>2 - 4 years</td>\n",
       "      <td>1 year or less</td>\n",
       "      <td>College degree</td>\n",
       "      <td>Woman</td>\n",
       "      <td>White</td>\n",
       "    </tr>\n",
       "    <tr>\n",
       "      <th>28051</th>\n",
       "      <td>7/1/2024 20:05:58</td>\n",
       "      <td>25-34</td>\n",
       "      <td>Computing or Tech</td>\n",
       "      <td>Junior data analyst</td>\n",
       "      <td>NaN</td>\n",
       "      <td>35000</td>\n",
       "      <td>15000.0</td>\n",
       "      <td>USD</td>\n",
       "      <td>NaN</td>\n",
       "      <td>NaN</td>\n",
       "      <td>Usa</td>\n",
       "      <td>Alabama</td>\n",
       "      <td>Alabama</td>\n",
       "      <td>2 - 4 years</td>\n",
       "      <td>2 - 4 years</td>\n",
       "      <td>College degree</td>\n",
       "      <td>Woman</td>\n",
       "      <td>Black or African American</td>\n",
       "    </tr>\n",
       "    <tr>\n",
       "      <th>28052</th>\n",
       "      <td>7/3/2024 14:02:01</td>\n",
       "      <td>25-34</td>\n",
       "      <td>Computing or Tech</td>\n",
       "      <td>Senior Global Public Relations Manager</td>\n",
       "      <td>NaN</td>\n",
       "      <td>144000</td>\n",
       "      <td>15000.0</td>\n",
       "      <td>USD</td>\n",
       "      <td>NaN</td>\n",
       "      <td>NaN</td>\n",
       "      <td>Usa</td>\n",
       "      <td>Massachusetts</td>\n",
       "      <td>Boise-but remote. Company located in Boston</td>\n",
       "      <td>8 - 10 years</td>\n",
       "      <td>8 - 10 years</td>\n",
       "      <td>Master's degree</td>\n",
       "      <td>Woman</td>\n",
       "      <td>White</td>\n",
       "    </tr>\n",
       "    <tr>\n",
       "      <th>28058</th>\n",
       "      <td>7/23/2024 17:51:03</td>\n",
       "      <td>25-34</td>\n",
       "      <td>Computing or Tech</td>\n",
       "      <td>Systems Architect</td>\n",
       "      <td>NaN</td>\n",
       "      <td>109000</td>\n",
       "      <td>NaN</td>\n",
       "      <td>USD</td>\n",
       "      <td>NaN</td>\n",
       "      <td>NaN</td>\n",
       "      <td>USA</td>\n",
       "      <td>Georgia</td>\n",
       "      <td>Atlanta</td>\n",
       "      <td>5-7 years</td>\n",
       "      <td>5-7 years</td>\n",
       "      <td>College degree</td>\n",
       "      <td>Man</td>\n",
       "      <td>White</td>\n",
       "    </tr>\n",
       "    <tr>\n",
       "      <th>28060</th>\n",
       "      <td>7/26/2024 11:20:45</td>\n",
       "      <td>18-24</td>\n",
       "      <td>Computing or Tech</td>\n",
       "      <td>IT</td>\n",
       "      <td>NaN</td>\n",
       "      <td>1700</td>\n",
       "      <td>10.0</td>\n",
       "      <td>USD</td>\n",
       "      <td>NaN</td>\n",
       "      <td>NaN</td>\n",
       "      <td>Burma</td>\n",
       "      <td>NaN</td>\n",
       "      <td>Yangon</td>\n",
       "      <td>2 - 4 years</td>\n",
       "      <td>1 year or less</td>\n",
       "      <td>Some college</td>\n",
       "      <td>Man</td>\n",
       "      <td>Asian or Asian American</td>\n",
       "    </tr>\n",
       "  </tbody>\n",
       "</table>\n",
       "<p>3777 rows × 18 columns</p>\n",
       "</div>"
      ],
      "text/plain": [
       "                Timestamp    age           industry  \\\n",
       "8      4/27/2021 11:03:01  45-54  Computing or Tech   \n",
       "43     4/27/2021 11:04:04  25-34  Computing or Tech   \n",
       "44     4/27/2021 11:04:04  25-34  Computing or Tech   \n",
       "46     4/27/2021 11:04:07  35-44  Computing or Tech   \n",
       "47     4/27/2021 11:04:09  35-44  Computing or Tech   \n",
       "...                   ...    ...                ...   \n",
       "28044   6/3/2024 16:15:43  18-24  Computing or Tech   \n",
       "28051   7/1/2024 20:05:58  25-34  Computing or Tech   \n",
       "28052   7/3/2024 14:02:01  25-34  Computing or Tech   \n",
       "28058  7/23/2024 17:51:03  25-34  Computing or Tech   \n",
       "28060  7/26/2024 11:20:45  18-24  Computing or Tech   \n",
       "\n",
       "                                        title                 title_context  \\\n",
       "8                             Systems Analyst  Data developer/ETL Developer   \n",
       "43                Principal Software Engineer                           NaN   \n",
       "44                       Intelligence Analyst                           NaN   \n",
       "46                           Mobile developer                           NaN   \n",
       "47                    Product Design Director                           NaN   \n",
       "...                                       ...                           ...   \n",
       "28044         Research Data Analyst Associate                           NaN   \n",
       "28051                    Junior data analyst                            NaN   \n",
       "28052  Senior Global Public Relations Manager                           NaN   \n",
       "28058                       Systems Architect                           NaN   \n",
       "28060                                      IT                           NaN   \n",
       "\n",
       "        salary  additional_compensation currency other_currency  \\\n",
       "8      112,000                  10000.0      USD            NaN   \n",
       "43     187,500                   5000.0      USD            NaN   \n",
       "44     110,000                  20000.0      USD            NaN   \n",
       "46     144,600                   2500.0      USD            NaN   \n",
       "47     200,850                  40000.0      USD            NaN   \n",
       "...        ...                      ...      ...            ...   \n",
       "28044    60000                      0.0      USD            NaN   \n",
       "28051    35000                  15000.0      USD            NaN   \n",
       "28052   144000                  15000.0      USD            NaN   \n",
       "28058   109000                      NaN      USD            NaN   \n",
       "28060     1700                     10.0      USD            NaN   \n",
       "\n",
       "                      salary_context        country           state  \\\n",
       "8                                NaN             US        Missouri   \n",
       "43                               NaN  United States    Pennsylvania   \n",
       "44     Around 20,000 a year in stock            USA        Virginia   \n",
       "46                               NaN            USA   Massachusetts   \n",
       "47                               NaN            USA  North Carolina   \n",
       "...                              ...            ...             ...   \n",
       "28044                            NaN  United States        Illinois   \n",
       "28051                            NaN            Usa         Alabama   \n",
       "28052                            NaN            Usa   Massachusetts   \n",
       "28058                            NaN            USA         Georgia   \n",
       "28060                            NaN          Burma             NaN   \n",
       "\n",
       "                                               city      total_yoe  \\\n",
       "8                                         St. Louis  21 - 30 years   \n",
       "43                                       Pittsburgh   8 - 10 years   \n",
       "44                                    Arlington, VA   8 - 10 years   \n",
       "46                                           Boston      5-7 years   \n",
       "47                                      Chapel Hill  11 - 20 years   \n",
       "...                                             ...            ...   \n",
       "28044                                      Evanston    2 - 4 years   \n",
       "28051                                      Alabama     2 - 4 years   \n",
       "28052  Boise-but remote. Company located in Boston    8 - 10 years   \n",
       "28058                                       Atlanta      5-7 years   \n",
       "28060                                        Yangon    2 - 4 years   \n",
       "\n",
       "            field_yoe highest_education_completed gender  \\\n",
       "8       21 - 30 years              College degree  Woman   \n",
       "43          5-7 years              College degree  Woman   \n",
       "44       8 - 10 years             Master's degree    Man   \n",
       "46          5-7 years                         PhD  Woman   \n",
       "47      11 - 20 years              College degree  Woman   \n",
       "...               ...                         ...    ...   \n",
       "28044  1 year or less              College degree  Woman   \n",
       "28051     2 - 4 years              College degree  Woman   \n",
       "28052    8 - 10 years             Master's degree  Woman   \n",
       "28058       5-7 years              College degree    Man   \n",
       "28060  1 year or less                Some college    Man   \n",
       "\n",
       "                            race  \n",
       "8                          White  \n",
       "43                         White  \n",
       "44                         White  \n",
       "46                         White  \n",
       "47                         White  \n",
       "...                          ...  \n",
       "28044                      White  \n",
       "28051  Black or African American  \n",
       "28052                      White  \n",
       "28058                      White  \n",
       "28060    Asian or Asian American  \n",
       "\n",
       "[3777 rows x 18 columns]"
      ]
     },
     "execution_count": 17,
     "metadata": {},
     "output_type": "execute_result"
    }
   ],
   "source": [
    "# Filtery filter for just the jobs that pay in USD!\n",
    "df_salary_tech = df_salary_tech[df_salary_tech['currency'] == 'USD']\n",
    "df_salary_tech\n"
   ]
  },
  {
   "cell_type": "markdown",
   "metadata": {},
   "source": [
    "What we really want know is how each U.S. city pays in tech. What value in `country` represents the United States of America?"
   ]
  },
  {
   "cell_type": "code",
   "execution_count": 18,
   "metadata": {},
   "outputs": [
    {
     "data": {
      "text/plain": [
       "country\n",
       "United States               1576\n",
       "USA                         1222\n",
       "US                           412\n",
       "U.S.                         108\n",
       "United States of America      90\n",
       "                            ... \n",
       "Ghana                          1\n",
       "Nigeria                        1\n",
       "ss                             1\n",
       "Nigeria                        1\n",
       "Burma                          1\n",
       "Name: count, Length: 76, dtype: int64"
      ]
     },
     "execution_count": 18,
     "metadata": {},
     "output_type": "execute_result"
    }
   ],
   "source": [
    "# We did filter for USD, so if we do a count of each unique country in descending count order, the relevant value(s) should show up at the top.\n",
    "df_salary_tech['country'].value_counts()\n",
    "\n"
   ]
  },
  {
   "cell_type": "markdown",
   "metadata": {},
   "source": [
    "### Clean the Data\n",
    "\n",
    "Well, we can’t get our answers with what we currently have, so you’ll have to make some changes."
   ]
  },
  {
   "cell_type": "markdown",
   "metadata": {},
   "source": [
    "Let’s not worry about anything below the first 5 values for now. Convert the top 5 to a single canonical value―say, `'US'`, which is nice and short."
   ]
  },
  {
   "cell_type": "code",
   "execution_count": 19,
   "metadata": {},
   "outputs": [],
   "source": [
    "# Replace them all with 'US'.\n",
    "df_salary_tech['country'] = df_salary_tech['country'].replace({\n",
    "    'United States': 'US',\n",
    "    'USA': 'US',\n",
    "    'U.S.': 'US',\n",
    "    'United States of America': 'US',\n",
    "    'United States of America ': 'US',\n",
    "    'United States Of America': 'US',\n",
    "    'United States ': 'US',\n",
    "    'United states': 'US',\n",
    "    'united states': 'US',\n",
    "    'USA ': 'US',\n",
    "    'usa': 'US',\n",
    "    'Usa': 'US',\n",
    "    'Usa ': 'US',\n",
    "    'U.S.A.': 'US',\n",
    "    'U.S.A': 'US',\n",
    "    'U.S.': 'US',\n",
    "    'us': 'US',\n",
    "    'Us': 'US',\n",
    "    'Unite States': 'US',\n",
    "    'United State of America': 'US',\n",
    "    'U.S': 'US',\n",
    "    'UnitedStates': 'US',\n",
    "    'United States of america': 'US',\n",
    "    'US ': 'US',\n",
    "    'U.S. ': 'US',\n",
    "    'united States': 'US',\n",
    "    'Uniyed states': 'US',\n",
    "    'America': 'US',\n",
    "    'United State': 'US',\n",
    "    ' US': 'US',\n",
    "    'U.s.': 'US',\n",
    "    'ISA': 'US',\n",
    "    'United Stateds': 'US',\n",
    "    'United Stated': 'US'\n",
    "})\n"
   ]
  },
  {
   "cell_type": "markdown",
   "metadata": {},
   "source": [
    "Have a look at the count of each unique country again now."
   ]
  },
  {
   "cell_type": "code",
   "execution_count": 20,
   "metadata": {},
   "outputs": [
    {
     "data": {
      "text/plain": [
       "country\n",
       "US                      3720\n",
       "Israel                     5\n",
       "Canada                     4\n",
       "India                      2\n",
       "Australia                  2\n",
       "France                     2\n",
       "Poland                     2\n",
       "New Zealand                2\n",
       "United Kingdom             2\n",
       "Brazil                     2\n",
       "Spain                      2\n",
       "Remote (philippines)       1\n",
       "International              1\n",
       "Danmark                    1\n",
       "Italy                      1\n",
       "Cuba                       1\n",
       "Puerto Rico                1\n",
       "Uruguay                    1\n",
       "Singapore                  1\n",
       "singapore                  1\n",
       "Canada                     1\n",
       "Mexico                     1\n",
       "Pakistan                   1\n",
       "Netherlands                1\n",
       "China                      1\n",
       "San Francisco              1\n",
       "Romania                    1\n",
       "United STates              1\n",
       "Japan                      1\n",
       "United Stares              1\n",
       "Australian                 1\n",
       "Denmark                    1\n",
       "Jamaica                    1\n",
       "Unites States              1\n",
       "Thailand                   1\n",
       "U.S.A                      1\n",
       "Colombia                   1\n",
       "denmark                    1\n",
       "Ghana                      1\n",
       "Nigeria                    1\n",
       "ss                         1\n",
       "Nigeria                    1\n",
       "Burma                      1\n",
       "Name: count, dtype: int64"
      ]
     },
     "execution_count": 20,
     "metadata": {},
     "output_type": "execute_result"
    }
   ],
   "source": [
    "# Count again.\n",
    "\n",
    "df_salary_tech['country'].value_counts()"
   ]
  },
  {
   "cell_type": "markdown",
   "metadata": {},
   "source": [
    "Did you notice anything interesting?"
   ]
  },
  {
   "cell_type": "code",
   "execution_count": 29,
   "metadata": {},
   "outputs": [],
   "source": [
    "# BONUS CREDIT: resolve [most of] those anomalous cases too without exhaustively taking every variant literally into account.\n",
    "df_salary_tech['country'] = (\n",
    "    df_salary_tech['country']\n",
    "    .str.lower()\n",
    "    .str.strip()\n",
    "    .replace({\n",
    "        'united states': 'US',\n",
    "        'usa': 'US',\n",
    "        'u.s.': 'US',\n",
    "        'united states of america': 'US',\n",
    "        'america': 'US'\n",
    "    })\n",
    ")\n",
    "\n",
    "df_salary_tech['country'] = df_salary_tech['country'].apply(\n",
    "    lambda x: 'US' if x.strip().lower() == 'us' else x.strip().capitalize()\n",
    ")\n"
   ]
  },
  {
   "cell_type": "code",
   "execution_count": 30,
   "metadata": {},
   "outputs": [
    {
     "data": {
      "text/plain": [
       "country\n",
       "US                      3721\n",
       "Canada                     5\n",
       "Israel                     5\n",
       "Australia                  2\n",
       "India                      2\n",
       "Spain                      2\n",
       "France                     2\n",
       "Denmark                    2\n",
       "Nigeria                    2\n",
       "Singapore                  2\n",
       "New zealand                2\n",
       "Poland                     2\n",
       "United kingdom             2\n",
       "Brazil                     2\n",
       "Danmark                    1\n",
       "Cuba                       1\n",
       "Puerto rico                1\n",
       "Remote (philippines)       1\n",
       "Uruguay                    1\n",
       "Mexico                     1\n",
       "International              1\n",
       "Italy                      1\n",
       "Netherlands                1\n",
       "Pakistan                   1\n",
       "Romania                    1\n",
       "China                      1\n",
       "Japan                      1\n",
       "United stares              1\n",
       "Australian                 1\n",
       "San francisco              1\n",
       "Jamaica                    1\n",
       "Unites states              1\n",
       "U.s.a                      1\n",
       "Thailand                   1\n",
       "Colombia                   1\n",
       "Ghana                      1\n",
       "Ss                         1\n",
       "Burma                      1\n",
       "Name: count, dtype: int64"
      ]
     },
     "execution_count": 30,
     "metadata": {},
     "output_type": "execute_result"
    }
   ],
   "source": [
    "\n",
    "# BONUS CREDIT: if you’ve resolved it, let’s see how well you did by counting the number of instances of each unique value.\n",
    "df_salary_tech['country'].value_counts()\n"
   ]
  },
  {
   "cell_type": "markdown",
   "metadata": {},
   "source": [
    "It’s looking good so far. Let’s find out the minimum, mean, and maximum (in that order) salary by state, sorted by the mean in descending order."
   ]
  },
  {
   "cell_type": "code",
   "execution_count": 32,
   "metadata": {},
   "outputs": [
    {
     "data": {
      "text/html": [
       "<div>\n",
       "<style scoped>\n",
       "    .dataframe tbody tr th:only-of-type {\n",
       "        vertical-align: middle;\n",
       "    }\n",
       "\n",
       "    .dataframe tbody tr th {\n",
       "        vertical-align: top;\n",
       "    }\n",
       "\n",
       "    .dataframe thead th {\n",
       "        text-align: right;\n",
       "    }\n",
       "</style>\n",
       "<table border=\"1\" class=\"dataframe\">\n",
       "  <thead>\n",
       "    <tr style=\"text-align: right;\">\n",
       "      <th></th>\n",
       "      <th>min</th>\n",
       "      <th>mean</th>\n",
       "      <th>max</th>\n",
       "    </tr>\n",
       "    <tr>\n",
       "      <th>state</th>\n",
       "      <th></th>\n",
       "      <th></th>\n",
       "      <th></th>\n",
       "    </tr>\n",
       "  </thead>\n",
       "  <tbody>\n",
       "    <tr>\n",
       "      <th>Michigan, Texas, Washington</th>\n",
       "      <td>340000.0</td>\n",
       "      <td>340000.0</td>\n",
       "      <td>340000.0</td>\n",
       "    </tr>\n",
       "    <tr>\n",
       "      <th>Florida</th>\n",
       "      <td>28800.0</td>\n",
       "      <td>210711.0</td>\n",
       "      <td>2600000.0</td>\n",
       "    </tr>\n",
       "    <tr>\n",
       "      <th>California, Oregon</th>\n",
       "      <td>200000.0</td>\n",
       "      <td>200000.0</td>\n",
       "      <td>200000.0</td>\n",
       "    </tr>\n",
       "    <tr>\n",
       "      <th>California, Colorado</th>\n",
       "      <td>176000.0</td>\n",
       "      <td>176000.0</td>\n",
       "      <td>176000.0</td>\n",
       "    </tr>\n",
       "    <tr>\n",
       "      <th>Delaware</th>\n",
       "      <td>169000.0</td>\n",
       "      <td>169000.0</td>\n",
       "      <td>169000.0</td>\n",
       "    </tr>\n",
       "    <tr>\n",
       "      <th>...</th>\n",
       "      <td>...</td>\n",
       "      <td>...</td>\n",
       "      <td>...</td>\n",
       "    </tr>\n",
       "    <tr>\n",
       "      <th>Mississippi</th>\n",
       "      <td>NaN</td>\n",
       "      <td>NaN</td>\n",
       "      <td>NaN</td>\n",
       "    </tr>\n",
       "    <tr>\n",
       "      <th>New York, Texas</th>\n",
       "      <td>NaN</td>\n",
       "      <td>NaN</td>\n",
       "      <td>NaN</td>\n",
       "    </tr>\n",
       "    <tr>\n",
       "      <th>North Dakota</th>\n",
       "      <td>NaN</td>\n",
       "      <td>NaN</td>\n",
       "      <td>NaN</td>\n",
       "    </tr>\n",
       "    <tr>\n",
       "      <th>South Dakota</th>\n",
       "      <td>NaN</td>\n",
       "      <td>NaN</td>\n",
       "      <td>NaN</td>\n",
       "    </tr>\n",
       "    <tr>\n",
       "      <th>Utah, Vermont</th>\n",
       "      <td>NaN</td>\n",
       "      <td>NaN</td>\n",
       "      <td>NaN</td>\n",
       "    </tr>\n",
       "  </tbody>\n",
       "</table>\n",
       "<p>66 rows × 3 columns</p>\n",
       "</div>"
      ],
      "text/plain": [
       "                                  min      mean        max\n",
       "state                                                     \n",
       "Michigan, Texas, Washington  340000.0  340000.0   340000.0\n",
       "Florida                       28800.0  210711.0  2600000.0\n",
       "California, Oregon           200000.0  200000.0   200000.0\n",
       "California, Colorado         176000.0  176000.0   176000.0\n",
       "Delaware                     169000.0  169000.0   169000.0\n",
       "...                               ...       ...        ...\n",
       "Mississippi                       NaN       NaN        NaN\n",
       "New York, Texas                   NaN       NaN        NaN\n",
       "North Dakota                      NaN       NaN        NaN\n",
       "South Dakota                      NaN       NaN        NaN\n",
       "Utah, Vermont                     NaN       NaN        NaN\n",
       "\n",
       "[66 rows x 3 columns]"
      ]
     },
     "execution_count": 32,
     "metadata": {},
     "output_type": "execute_result"
    }
   ],
   "source": [
    "# Find the minimum, mean, and maximum salary in USD by U.S. state.\n",
    "df_salary_tech['salary'] = pd.to_numeric(df_salary_tech['salary'], errors='coerce')\n",
    "\n",
    "state_salary = (\n",
    "    df_salary_tech.groupby('state')['salary']\n",
    "    .agg(['min', 'mean', 'max'])\n",
    "    .sort_values('mean', ascending=False)\n",
    ")\n",
    "state_salary"
   ]
  },
  {
   "cell_type": "markdown",
   "metadata": {},
   "source": [
    "Well, pooh! We forgot that `salary` isn’t numeric. Something wrong must be fixed."
   ]
  },
  {
   "cell_type": "code",
   "execution_count": 24,
   "metadata": {},
   "outputs": [],
   "source": [
    "# Fix it.\n",
    "\n"
   ]
  },
  {
   "cell_type": "markdown",
   "metadata": {},
   "source": [
    "Let’s try that again."
   ]
  },
  {
   "cell_type": "code",
   "execution_count": 25,
   "metadata": {},
   "outputs": [],
   "source": [
    "# Try it again. Yeah!\n",
    "\n"
   ]
  },
  {
   "cell_type": "markdown",
   "metadata": {},
   "source": [
    "That did the trick! Now let’s narrow this to data 2021 and 2022 just because (lel). *(Hint: that timestamp column may not be a temporal type right now.)*"
   ]
  },
  {
   "cell_type": "code",
   "execution_count": 35,
   "metadata": {},
   "outputs": [
    {
     "data": {
      "text/html": [
       "<div>\n",
       "<style scoped>\n",
       "    .dataframe tbody tr th:only-of-type {\n",
       "        vertical-align: middle;\n",
       "    }\n",
       "\n",
       "    .dataframe tbody tr th {\n",
       "        vertical-align: top;\n",
       "    }\n",
       "\n",
       "    .dataframe thead th {\n",
       "        text-align: right;\n",
       "    }\n",
       "</style>\n",
       "<table border=\"1\" class=\"dataframe\">\n",
       "  <thead>\n",
       "    <tr style=\"text-align: right;\">\n",
       "      <th></th>\n",
       "      <th>min</th>\n",
       "      <th>mean</th>\n",
       "      <th>max</th>\n",
       "    </tr>\n",
       "    <tr>\n",
       "      <th>state</th>\n",
       "      <th></th>\n",
       "      <th></th>\n",
       "      <th></th>\n",
       "    </tr>\n",
       "  </thead>\n",
       "  <tbody>\n",
       "    <tr>\n",
       "      <th>Michigan, Texas, Washington</th>\n",
       "      <td>340000.0</td>\n",
       "      <td>340000.0</td>\n",
       "      <td>340000.0</td>\n",
       "    </tr>\n",
       "    <tr>\n",
       "      <th>California, Oregon</th>\n",
       "      <td>200000.0</td>\n",
       "      <td>200000.0</td>\n",
       "      <td>200000.0</td>\n",
       "    </tr>\n",
       "    <tr>\n",
       "      <th>California, Colorado</th>\n",
       "      <td>176000.0</td>\n",
       "      <td>176000.0</td>\n",
       "      <td>176000.0</td>\n",
       "    </tr>\n",
       "    <tr>\n",
       "      <th>Delaware</th>\n",
       "      <td>169000.0</td>\n",
       "      <td>169000.0</td>\n",
       "      <td>169000.0</td>\n",
       "    </tr>\n",
       "    <tr>\n",
       "      <th>Connecticut</th>\n",
       "      <td>68000.0</td>\n",
       "      <td>161610.0</td>\n",
       "      <td>270000.0</td>\n",
       "    </tr>\n",
       "    <tr>\n",
       "      <th>...</th>\n",
       "      <td>...</td>\n",
       "      <td>...</td>\n",
       "      <td>...</td>\n",
       "    </tr>\n",
       "    <tr>\n",
       "      <th>New York, Texas</th>\n",
       "      <td>NaN</td>\n",
       "      <td>NaN</td>\n",
       "      <td>NaN</td>\n",
       "    </tr>\n",
       "    <tr>\n",
       "      <th>North Dakota</th>\n",
       "      <td>NaN</td>\n",
       "      <td>NaN</td>\n",
       "      <td>NaN</td>\n",
       "    </tr>\n",
       "    <tr>\n",
       "      <th>South Carolina</th>\n",
       "      <td>NaN</td>\n",
       "      <td>NaN</td>\n",
       "      <td>NaN</td>\n",
       "    </tr>\n",
       "    <tr>\n",
       "      <th>South Dakota</th>\n",
       "      <td>NaN</td>\n",
       "      <td>NaN</td>\n",
       "      <td>NaN</td>\n",
       "    </tr>\n",
       "    <tr>\n",
       "      <th>Utah, Vermont</th>\n",
       "      <td>NaN</td>\n",
       "      <td>NaN</td>\n",
       "      <td>NaN</td>\n",
       "    </tr>\n",
       "  </tbody>\n",
       "</table>\n",
       "<p>66 rows × 3 columns</p>\n",
       "</div>"
      ],
      "text/plain": [
       "                                  min      mean       max\n",
       "state                                                    \n",
       "Michigan, Texas, Washington  340000.0  340000.0  340000.0\n",
       "California, Oregon           200000.0  200000.0  200000.0\n",
       "California, Colorado         176000.0  176000.0  176000.0\n",
       "Delaware                     169000.0  169000.0  169000.0\n",
       "Connecticut                   68000.0  161610.0  270000.0\n",
       "...                               ...       ...       ...\n",
       "New York, Texas                   NaN       NaN       NaN\n",
       "North Dakota                      NaN       NaN       NaN\n",
       "South Carolina                    NaN       NaN       NaN\n",
       "South Dakota                      NaN       NaN       NaN\n",
       "Utah, Vermont                     NaN       NaN       NaN\n",
       "\n",
       "[66 rows x 3 columns]"
      ]
     },
     "execution_count": 35,
     "metadata": {},
     "output_type": "execute_result"
    }
   ],
   "source": [
    "# Filter the data to within 2021, 2022, or 2023, saving the DataFrame to a new variable, and generate the summary again.\n",
    "df_salary_tech['Timestamp'] = pd.to_datetime(df_salary_tech['Timestamp'], errors='coerce')\n",
    "df_salary_tech_21_23 = df_salary_tech[df_salary_tech['Timestamp'].dt.year.isin([2021, 2022, 2023])]\n",
    "\n",
    "state_salary_21_23 = (\n",
    "    df_salary_tech_21_23.groupby('state')['salary']\n",
    "    .agg(['min', 'mean', 'max'])\n",
    "    .sort_values('mean', ascending=False)\n",
    ")\n",
    "state_salary_21_23"
   ]
  },
  {
   "cell_type": "markdown",
   "metadata": {},
   "source": [
    "## Bonus\n",
    "\n",
    "Clearly, we do not have enough data to produce useful figures for the level of specificity you’ve now reached. What do you notice about Delaware and West Virginia?\n",
    "\n",
    "Let’s back out a bit and return to `df_salary` (which was the loaded data with renamed columns but *sans* filtering)."
   ]
  },
  {
   "cell_type": "markdown",
   "metadata": {},
   "source": [
    "### Bonus #0\n",
    "\n",
    "Apply the same steps as before to `df_salary`, but do not filter for any specific industry. Do perform the other data cleaning stuff, and get to a point where you can generate the minimum, mean, and maximum by state."
   ]
  },
  {
   "cell_type": "code",
   "execution_count": null,
   "metadata": {},
   "outputs": [],
   "source": []
  },
  {
   "cell_type": "markdown",
   "metadata": {},
   "source": [
    "### Bonus #1\n",
    "\n",
    "This time, format the table output nicely (*$12,345.00*) without modifying the values in the `DataFrame`. That is, `df_salary` should be identical before versus after running your code.\n",
    "\n",
    "(*Hint: if you run into an error about `jinja2` perhaps you need to `pip install` something.*)"
   ]
  },
  {
   "cell_type": "code",
   "execution_count": null,
   "metadata": {},
   "outputs": [],
   "source": []
  },
  {
   "cell_type": "markdown",
   "metadata": {},
   "source": [
    "### Bonus #2\n",
    "\n",
    "Filter out the non-single-states (e.g., `'California, Colorado'`) in the most elegant way possible (i.e., *not* by blacklisting all the bad values)."
   ]
  },
  {
   "cell_type": "code",
   "execution_count": null,
   "metadata": {},
   "outputs": [],
   "source": []
  },
  {
   "cell_type": "markdown",
   "metadata": {},
   "source": [
    "### Bonus #3\n",
    "\n",
    "Show the quantiles instead of just minimum, mean, and maximum―say 0%, 5%, 25%, 50%, 75%, 95%, and 100%. Outliers may be deceiving.\n",
    "\n",
    "Sort by whatever interests you―like say the *50th* percentile.\n",
    "\n",
    "And throw in a count by state too. It would be interesting to know how many data points contribute to the figures for each state. (*Hint: your nice formatting from Bonus #1 might not work this time around.* 😜)"
   ]
  },
  {
   "cell_type": "code",
   "execution_count": null,
   "metadata": {},
   "outputs": [],
   "source": []
  }
 ],
 "metadata": {
  "kernelspec": {
   "display_name": ".venv",
   "language": "python",
   "name": "python3"
  },
  "language_info": {
   "codemirror_mode": {
    "name": "ipython",
    "version": 3
   },
   "file_extension": ".py",
   "mimetype": "text/x-python",
   "name": "python",
   "nbconvert_exporter": "python",
   "pygments_lexer": "ipython3",
   "version": "3.12.3"
  }
 },
 "nbformat": 4,
 "nbformat_minor": 2
}
